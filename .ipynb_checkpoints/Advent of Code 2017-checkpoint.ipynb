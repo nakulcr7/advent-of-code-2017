{
 "cells": [
  {
   "cell_type": "markdown",
   "metadata": {},
   "source": [
    "# Advent of Code 2017 Solutions\n",
    "## Nakul Camasamudram"
   ]
  },
  {
   "cell_type": "markdown",
   "metadata": {},
   "source": [
    "The plan is to solve one problem each day from Dec 1st to Dec 27th, 2017 from [Advent Of Code](https://adventofcode.com/2017). I don't aim to get as many stars as possible as that would require me to start working at midnight each day. This is more of an exercise for me to write efficient and beautiful pythonic code"
   ]
  },
  {
   "cell_type": "markdown",
   "metadata": {},
   "source": [
    "## Helper Functions and Modules\n",
    "\n",
    "This section contains my favourite modules and functions that I think I'd need through the challenge"
   ]
  },
  {
   "cell_type": "code",
   "execution_count": 77,
   "metadata": {},
   "outputs": [],
   "source": [
    "# Python 3.6.0\n",
    "from itertools import combinations, count\n",
    "import requests\n",
    "import math\n",
    "import re\n",
    "\n",
    "\n",
    "### Input Helpers\n",
    "def get_filepath(day, test=False):\n",
    "    if test:\n",
    "        return \"data/input{}_test.txt\".format(day)\n",
    "    else:\n",
    "        return \"data/input{}.txt\".format(day)\n",
    "    \n",
    "    \n",
    "def get_input(day, test=False):\n",
    "    \"Reads this day's input file\"\n",
    "    filepath = get_filepath(day, test=test)\n",
    "    try:\n",
    "        return open(filepath)\n",
    "    except FileNotFoundError as e:\n",
    "        raise e(\"Input file not found\")\n",
    "\n",
    "def array(lines):\n",
    "    \"\"\"\n",
    "    Given an str or a list on strings,\n",
    "    Returns the input as a list of tuples\n",
    "    \"\"\"\n",
    "    if isinstance(lines, str):\n",
    "        lines = lines.strip().splitlines()\n",
    "    return mapt(vector, lines)\n",
    "\n",
    "\n",
    "def vector(line):\n",
    "    \"\"\"\n",
    "    Given a string, convert and return it as a tuple of ints, floats or strings\n",
    "    \"\"\"\n",
    "    return mapt(atom, line.strip().split())\n",
    "\n",
    "\n",
    "def alphanum_vector(line):\n",
    "    \"\"\"\n",
    "    Given a string, convert and return it as a tuple of ints, floats or strings of\n",
    "    of alphanumeric characters only\n",
    "    \"\"\"\n",
    "    return mapt(atom,\n",
    "                filter(lambda s: len(s) > 0,\n",
    "                        map(lambda x: \"\".join([c for c in x if c.isalnum()]),\n",
    "                            line.strip().split())))\n",
    "\n",
    "\n",
    "def atom(token):\n",
    "    \"\"\"\n",
    "    Given a string token, convert it into an int or a float if possible\n",
    "    \"\"\"\n",
    "    token = token.strip()\n",
    "    try:\n",
    "        return int(token)\n",
    "    except ValueError:\n",
    "        try:\n",
    "            return float(token)\n",
    "        except ValueError:\n",
    "            return token\n",
    "    \n",
    "\n",
    "### 2d Geometry\n",
    "def get_x(point):\n",
    "    \"\"\"\n",
    "    Given a point, returns its x-coordinate\n",
    "    \"\"\"\n",
    "    x, _ = point\n",
    "    return x\n",
    "\n",
    "\n",
    "def get_y(point):\n",
    "    \"\"\"\n",
    "    Given a point, returns its y-coordinate\n",
    "    \"\"\"\n",
    "    _, y = point\n",
    "    return y\n",
    "\n",
    "\n",
    "def minkowski_dist(p1, p2, d):\n",
    "    \"\"\"\n",
    "    Given two points and an order d, returns their order-d minkowski distance\n",
    "    \"\"\"\n",
    "    return pow((pow(abs(get_x(p1) - get_x(p2)), \n",
    "                    d), \n",
    "                pow(abs(get_y(p1) - get_y(p2)), \n",
    "                    d)\n",
    "               ),\n",
    "              1/d)\n",
    "\n",
    "\n",
    "def manhattan_dist(p1, p2):\n",
    "    \"\"\"\n",
    "    Given two points, returns the manhattan distance between them\n",
    "    \"\"\"\n",
    "    return minkowski_dist(p1, p2, 1)\n",
    "\n",
    "\n",
    "def euclidean_dist(p1, p2):\n",
    "    \"\"\"\n",
    "    Given two points, returns the euclidean distance between them\n",
    "    \"\"\"\n",
    "    return minkowski_dist(p1, p2, 2)\n",
    "\n",
    "\n",
    "### Iterables\n",
    "def mapt(func, *args):\n",
    "    \"\"\"\n",
    "    Given arguments, maps it into `func` and returns the result as a tuple\n",
    "    \"\"\"\n",
    "    return(tuple(map(func, *args)))\n",
    "\n",
    "\n",
    "def quantify(iterable, predicate):\n",
    "    \"\"\"\n",
    "    Given an iterable and a predicate,\n",
    "    Returns the number of items in the iterable that satisfy the predicate\n",
    "    \"\"\"\n",
    "    return len([token for token in iterable if predicate(token)])\n",
    "\n",
    "\n",
    "def hashable(items, typ=None):\n",
    "    \"\"\"\n",
    "    Given order-independent items and an optional type,\n",
    "    Returns a hashable version of the iterable\n",
    "    \"\"\"\n",
    "    typ = typ or (\"\".join if isinstance(items, str) else tuple)\n",
    "    return typ(sorted(items))\n",
    "\n",
    "\n",
    "def first(gen, default=None):\n",
    "    \"\"\"\n",
    "    Given a generator, returns its first element\n",
    "    \"\"\"\n",
    "    return next(gen, default)\n",
    "\n",
    "\n",
    "### Miscellaneous\n",
    "def is_even(iterable):\n",
    "    \"Given an iterable, returns True if its length is even\"\n",
    "    return len(iterable) % 2 == 0"
   ]
  },
  {
   "cell_type": "markdown",
   "metadata": {},
   "source": [
    "# [Day 1:](https://adventofcode.com/2017/day/1) Inverse Captcha"
   ]
  },
  {
   "cell_type": "markdown",
   "metadata": {},
   "source": [
    "### -- Part One -- \n",
    "\n",
    "The night before Christmas, one of Santa's Elves calls you in a panic. \"The printer's broken! We can't print the **Naughty or Nice List**!\" By the time you make it to sub-basement 17, there are only a few minutes until midnight. \"We have a big problem,\" she says; \"there must be almost fifty bugs in this system, but nothing else can print The List. Stand in this square, quick! There's no time to explain; if you can convince them to pay you in ***stars***, you'll be able to--\" She pulls a lever and the world goes blurry.\n",
    "\n",
    "When your eyes can focus again, everything seems a lot more pixelated than before. She must have sent you inside the computer! You check the system clock: **25 milliseconds** until midnight. With that much time, you should be able to collect all ***fifty stars*** by December 25th.\n",
    "\n",
    "Collect stars by solving puzzles. Two puzzles will be made available on each day millisecond in the advent calendar; the second puzzle is unlocked when you complete the first. Each puzzle grants ***one star***. Good luck!\n",
    "\n",
    "You're standing in a room with \"digitization quarantine\" written in LEDs along one wall. The only door is locked, but it includes a small interface. \"Restricted Area - Strictly No Digitized Users Allowed.\"\n",
    "\n",
    "It goes on to explain that you may only leave by solving a [captcha](https://en.wikipedia.org/wiki/CAPTCHA) to prove you're not a human. Apparently, you only get one millisecond to solve the captcha: too fast for a normal human, but it feels like hours to you.\n",
    "\n",
    "The captcha requires you to review a sequence of digits (your puzzle input) and find the **sum** of all digits that match the **next** digit in the list. The list is circular, so the digit after the last digit is the **first** digit in the list.\n",
    "\n",
    "***For example:***\n",
    "\n",
    "- 1122 produces a sum of 3 (1 + 2) because the first digit (1) matches the second digit and the third digit (2) matches the fourth digit.\n",
    "\n",
    "- 1111 produces 4 because each digit (all 1) matches the next.\n",
    "\n",
    "- 1234 produces 0 because no digit matches the next.\n",
    "\n",
    "- 91212129 produces 9 because the only digit that matches the next one is the last digit, 9.\n",
    "\n",
    "\n",
    "**What is the solution** to your captcha?"
   ]
  },
  {
   "cell_type": "code",
   "execution_count": 2,
   "metadata": {},
   "outputs": [
    {
     "name": "stdout",
     "output_type": "stream",
     "text": [
      "1177\n"
     ]
    }
   ],
   "source": [
    "def inverse_captcha_1(captcha):\n",
    "    \"\"\"\n",
    "    Given a string `captcha` , return its solution\n",
    "    \"\"\"\n",
    "    s = 0  # solution\n",
    "    for i in range(len(captcha)):\n",
    "        if captcha[i] == captcha[(i + 1) % len(captcha)]:\n",
    "            s += int(captcha[i])\n",
    "    return s\n",
    "\n",
    "\n",
    "# Tests\n",
    "assert inverse_captcha_1(\"1122\") == 3\n",
    "assert inverse_captcha_1(\"1111\") == 4\n",
    "assert inverse_captcha_1(\"1234\") == 0\n",
    "assert inverse_captcha_1(\"91212129\") == 9\n",
    "\n",
    "# Final Solution\n",
    "print(inverse_captcha_1(get_input(1).read()))"
   ]
  },
  {
   "cell_type": "markdown",
   "metadata": {},
   "source": [
    "### -- Part Two --"
   ]
  },
  {
   "cell_type": "markdown",
   "metadata": {},
   "source": [
    "You notice a progress bar that jumps to 50% completion. Apparently, the door isn't yet satisfied, but it did emit a ***star*** as encouragement. The instructions change:\n",
    "\n",
    "Now, instead of considering the **next** digit, it wants you to consider the digit **halfway around** the circular list. That is, if your list contains 10 items, only include a digit in your sum if the digit 10/2 = 5 steps forward matches it. Fortunately, your list has an even number of elements.\n",
    "\n",
    "***For example:***\n",
    "- 1212 produces 6: the list contains 4 items, and all four digits match the digit 2 items ahead.\n",
    "- 1221 produces 0, because every comparison is between a 1 and a 2.\n",
    "- 123425 produces 4, because both 2s match each other, but no other digit has a match.\n",
    "- 123123 produces 12.\n",
    "- 12131415 produces 4.\n",
    "\n",
    "**What is the solution** to your new captcha?"
   ]
  },
  {
   "cell_type": "code",
   "execution_count": 3,
   "metadata": {},
   "outputs": [
    {
     "name": "stdout",
     "output_type": "stream",
     "text": [
      "1060\n"
     ]
    }
   ],
   "source": [
    "def inverse_captcha_2(captcha):\n",
    "    \"\"\"\n",
    "    Given a string `captcha` , return its solution\n",
    "    \"\"\"\n",
    "    if not is_even(captcha):\n",
    "        raise ValueError(\"The length of the captcha is not even. Wrong input provided\")\n",
    "        \n",
    "    s = 0  # solution\n",
    "    for i in range(len(captcha)):\n",
    "        if captcha[i] == captcha[(i + len(captcha)//2) % len(captcha)]:\n",
    "            s += int(captcha[i])\n",
    "    return s\n",
    "\n",
    "\n",
    "# Tests\n",
    "assert inverse_captcha_2(\"1212\") == 6\n",
    "assert inverse_captcha_2(\"1221\") == 0\n",
    "assert inverse_captcha_2(\"123425\") == 4\n",
    "assert inverse_captcha_2(\"123123\") == 12\n",
    "assert inverse_captcha_2(\"12131415\") == 4\n",
    "\n",
    "\n",
    "# Final Solution\n",
    "print(inverse_captcha_2(get_input(1).read()))"
   ]
  },
  {
   "cell_type": "markdown",
   "metadata": {},
   "source": [
    "# [Day 2:](https://adventofcode.com/2017/day/2) Corruption Checksum"
   ]
  },
  {
   "cell_type": "markdown",
   "metadata": {},
   "source": [
    "### -- Part One --\n",
    "\n",
    "As you walk through the door, a glowing humanoid shape yells in your direction. \"You there! Your state appears to be idle. Come help us repair the corruption in this spreadsheet - if we take another millisecond, we'll have to display an hourglass cursor!\"\n",
    "\n",
    "The spreadsheet consists of rows of apparently-random numbers. To make sure the recovery process is on the right track, they need you to calculate the spreadsheet's **checksum**. For each row, determine the difference between the largest value and the smallest value; the checksum is the sum of all of these differences.\n",
    "\n",
    "**What is the checksum** for the spreadsheet in your puzzle input?"
   ]
  },
  {
   "cell_type": "code",
   "execution_count": 4,
   "metadata": {},
   "outputs": [
    {
     "name": "stdout",
     "output_type": "stream",
     "text": [
      "58975\n"
     ]
    }
   ],
   "source": [
    "def checksum_1(input_gen):\n",
    "    \"\"\"\n",
    "    Given a generator that reads an input file, returns its checksum\n",
    "    \"\"\"\n",
    "    cs = 0\n",
    "    for line in input_gen:\n",
    "        line = vector(line)\n",
    "        cs += max(line) - min(line)\n",
    "    return cs\n",
    "\n",
    "\n",
    "# Tests\n",
    "assert checksum_1(get_input(2, test=True)) == 18\n",
    "\n",
    "# Final Solution\n",
    "print(checksum_1(get_input(2)))"
   ]
  },
  {
   "cell_type": "markdown",
   "metadata": {},
   "source": [
    "### -- Part Two --\n",
    "\n",
    "\"Great work; looks like we're on the right track after all. Here's a star for your effort.\" However, the program seems a little worried. Can programs be worried?\n",
    "\n",
    "\"Based on what we're seeing, it looks like all the User wanted is some information about the **evenly divisible values** in the spreadsheet. Unfortunately, none of us are equipped for that kind of calculation - most of us specialize in bitwise operations.\"\n",
    "\n",
    "It sounds like the goal is to find the only two numbers in each row where one evenly divides the other - that is, where the result of the division operation is a whole number. They would like you to find those numbers on each line, divide them, and add up each line's result.\n",
    "\n",
    "What is the **sum of each row's result** in your puzzle input?"
   ]
  },
  {
   "cell_type": "code",
   "execution_count": 5,
   "metadata": {},
   "outputs": [
    {
     "name": "stdout",
     "output_type": "stream",
     "text": [
      "308\n"
     ]
    }
   ],
   "source": [
    "def checksum_2(input_gen):\n",
    "    \"\"\"\n",
    "    Given a generator that reads an input file, returns its checksum\n",
    "    \"\"\"\n",
    "    cs = 0\n",
    "    for line in input_gen:\n",
    "        line = vector(line)\n",
    "        for a, b in combinations(sorted(line), 2):\n",
    "            if b % a == 0:\n",
    "                cs += b // a\n",
    "    return cs\n",
    "\n",
    "\n",
    "# Final Solution\n",
    "print(checksum_2(get_input(2)))"
   ]
  },
  {
   "cell_type": "markdown",
   "metadata": {},
   "source": [
    "# [Day 3:](https://adventofcode.com/2017/day3) Spiral Memory"
   ]
  },
  {
   "cell_type": "markdown",
   "metadata": {},
   "source": [
    "You come across an experimental new kind of memory stored on an infinite two-dimensional grid.\n",
    "\n",
    "Each square on the grid is allocated in a spiral pattern starting at a location marked 1 and then counting up while spiraling outward. For example, the first few squares are allocated like this:\n",
    "\n",
    "17  16  15  14  13\n",
    "\n",
    "18   5   4   3  12\n",
    "\n",
    "19   6   1   2  11\n",
    "\n",
    "20   7   8   9  10\n",
    "\n",
    "21  22  23---> ...\n",
    "\n",
    "\n",
    "While this is very space-efficient (no squares are skipped), requested data must be carried back to square 1 (the location of the only access port for this memory system) by programs that can only move up, down, left, or right. They always take the shortest path: the Manhattan Distance between the location of the data and square 1.\n",
    "\n",
    "How many steps are required to carry the data from the square identified in your puzzle input all the way to the access port?\n",
    "\n",
    "Your puzzle input is `312051`"
   ]
  },
  {
   "cell_type": "code",
   "execution_count": 6,
   "metadata": {},
   "outputs": [
    {
     "name": "stdout",
     "output_type": "stream",
     "text": [
      "430\n"
     ]
    }
   ],
   "source": [
    "def spiral_memory_1(num):\n",
    "    if num == 1:\n",
    "        return 0\n",
    "    layer = math.floor(math.ceil(math.sqrt(num)) / 2)\n",
    "    vector_off = (num - (2*layer - 1)**2) % (2*layer)\n",
    "    center_off = abs(vector_off - layer)\n",
    "    return layer + center_off\n",
    "\n",
    "# Tests\n",
    "assert spiral_memory_1(1) == 0\n",
    "assert spiral_memory_1(12) == 3\n",
    "assert spiral_memory_1(23) == 2\n",
    "assert spiral_memory_1(1024) == 31\n",
    "\n",
    "# Final Solution\n",
    "print(spiral_memory_1(312051))"
   ]
  },
  {
   "cell_type": "markdown",
   "metadata": {},
   "source": [
    "### -- Part Two --\n",
    "\n",
    "As a stress test on the system, the programs here clear the grid and then store the value 1 in square 1. Then, in the same allocation order as shown above, they store the sum of the values in all adjacent squares, including diagonals.\n",
    "\n",
    "So, the first few squares' values are chosen as follows:\n",
    "\n",
    "Square 1 starts with the value 1.\n",
    "Square 2 has only one adjacent filled square (with value 1), so it also stores 1.\n",
    "Square 3 has both of the above squares as neighbors and stores the sum of their values, 2.\n",
    "Square 4 has all three of the aforementioned squares as neighbors and stores the sum of their values, 4.\n",
    "Square 5 only has the first and fourth squares as neighbors, so it gets the value 5.\n",
    "Once a square is written, its value does not change. Therefore, the first few squares would receive the following values:\n",
    "\n",
    "147  142  133  122   59\n",
    "\n",
    "304    5    4    2   57\n",
    "\n",
    "330   10    1    1   54\n",
    "\n",
    "351   11   23   25   26\n",
    "\n",
    "362  747  806--->   ...\n",
    "\n",
    "What is the first value written that is larger than your puzzle input?\n",
    "\n",
    "Your puzzle input is still `312051`."
   ]
  },
  {
   "cell_type": "code",
   "execution_count": 7,
   "metadata": {},
   "outputs": [
    {
     "name": "stdout",
     "output_type": "stream",
     "text": [
      "312453\n"
     ]
    }
   ],
   "source": [
    "def spiral_sum_gen():\n",
    "    a, i, j = {(0,0) : 1}, 0, 0\n",
    "    neighbour_sum = lambda i,j: sum(a.get((k,l), 0) \n",
    "                                    for k in range(i-1,i+2)\n",
    "                                         for l in range(j-1,j+2))\n",
    "    for s in count(1, 2):\n",
    "        for _ in range(s):\n",
    "            i += 1\n",
    "            a[i,j] = neighbour_sum(i,j)           \n",
    "            yield a[i,j]\n",
    "        \n",
    "        for _ in range(s):\n",
    "            j += 1\n",
    "            a[i,j] = neighbour_sum(i,j)\n",
    "            yield a[i,j]\n",
    "        \n",
    "        for _ in range(s+1): \n",
    "            i -= 1\n",
    "            a[i,j] = neighbour_sum(i,j)\n",
    "            yield a[i,j]\n",
    "            \n",
    "        for _ in range(s+1):\n",
    "            j -= 1\n",
    "            a[i,j] = neighbour_sum(i,j)\n",
    "            yield a[i,j]\n",
    "            \n",
    "\n",
    "def spiral_memory_2(num):\n",
    "    for s in spiral_sum_gen():\n",
    "        if s > num: return s\n",
    "        \n",
    "\n",
    "# Final Solution\n",
    "print(spiral_memory_2(312051))"
   ]
  },
  {
   "cell_type": "markdown",
   "metadata": {},
   "source": [
    "# [Day 4:](http://adventofcode.com/2017/day/4) High-Entropy Passphrases"
   ]
  },
  {
   "cell_type": "markdown",
   "metadata": {},
   "source": [
    "### -- Part One --\n",
    "\n",
    "A new system policy has been put in place that requires all accounts to use a **passphrase** instead of simply a pass**word**. A passphrase consists of a series of words (lowercase letters) separated by spaces.\n",
    "\n",
    "To ensure security, a valid passphrase must contain no duplicate words.\n",
    "\n",
    "***For example:***\n",
    "\n",
    "- aa bb cc dd ee is valid.\n",
    "\n",
    "- aa bb cc dd aa is not valid - the word aa appears more than once.\n",
    "\n",
    "- aa bb cc dd aaa is valid - aa and aaa count as different words.\n",
    "\n",
    "The system's full passphrase list is available as your puzzle input. **How many passphrases are valid?**"
   ]
  },
  {
   "cell_type": "code",
   "execution_count": 8,
   "metadata": {},
   "outputs": [
    {
     "name": "stdout",
     "output_type": "stream",
     "text": [
      "451\n"
     ]
    }
   ],
   "source": [
    "def passphrase_1(input_gen):\n",
    "    \"\"\"\n",
    "    Given a generator that reads an input file, returns the number o\n",
    "    \"\"\"\n",
    "    def valid_passphrase(line):\n",
    "        \"\"\"\n",
    "        A predicate that True iff the given line is a valid passphrase\n",
    "        \"\"\"\n",
    "        words = line.strip().split()\n",
    "        return len(words) == len(set(words))\n",
    "    return quantify(input_gen, valid_passphrase)\n",
    "    \n",
    "        \n",
    "# Tests\n",
    "assert passphrase_1(get_input(4, test=True)) == 2\n",
    "\n",
    "# Final Solution\n",
    "print(passphrase_1(get_input(4)))"
   ]
  },
  {
   "cell_type": "markdown",
   "metadata": {},
   "source": [
    "### -- Part Two --\n",
    "\n",
    "For added security, yet another system policy has been put in place. Now, a valid passphrase must contain no two words that are anagrams of each other - that is, a passphrase is invalid if any word's letters can be rearranged to form any other word in the passphrase.\n",
    "\n",
    "***For example:***\n",
    "\n",
    "- abcde fghij is a valid passphrase.\n",
    "\n",
    "- abcde xyz ecdab is not valid - the letters from the third word can be rearranged to form the first word.\n",
    "\n",
    "- a ab abc abd abf abj is a valid passphrase, because all letters need to be used when forming another word.\n",
    "\n",
    "- iiii oiii ooii oooi oooo is valid.\n",
    "\n",
    "- oiii ioii iioi iiio is not valid - any of these words can be rearranged to form any other word.\n",
    "\n",
    "Under this new system policy, **how many passphrases are valid?**"
   ]
  },
  {
   "cell_type": "code",
   "execution_count": 9,
   "metadata": {},
   "outputs": [
    {
     "name": "stdout",
     "output_type": "stream",
     "text": [
      "223\n"
     ]
    }
   ],
   "source": [
    "def passphrase_2(input_gen):\n",
    "    \"\"\"\n",
    "    Given a generator that reads an input file, returns the number of valid passphrases\n",
    "    \"\"\"\n",
    "    def valid_passphrase(line):\n",
    "        \"\"\"\n",
    "        A predicate that True iff the given line is a valid passphrase\n",
    "        \"\"\"\n",
    "        words = [hashable(word) for word in line.split()]\n",
    "        return len(words) == len(set(words))\n",
    "    return quantify(input_gen, valid_passphrase)\n",
    "    \n",
    "    \n",
    "# Final Solution\n",
    "print(passphrase_2(get_input(4)))"
   ]
  },
  {
   "cell_type": "markdown",
   "metadata": {},
   "source": [
    "# [Day 5:](http://adventofcode.com/2017/day/5) A Maze of Twisty Trampolines, All Alike"
   ]
  },
  {
   "cell_type": "markdown",
   "metadata": {},
   "source": [
    "### -- Part One --\n",
    "\n",
    "An urgent interrupt arrives from the CPU: it's trapped in a maze of jump instructions, and it would like assistance from any programs with spare cycles to help find the exit.\n",
    "\n",
    "The message includes a list of the offsets for each jump. Jumps are relative: -1 moves to the previous instruction, and 2 skips the next one. Start at the first instruction in the list. The goal is to follow the jumps until one leads **outside** the list.\n",
    "\n",
    "In addition, these instructions are a little strange; after each jump, the offset of that instruction increases by 1. So, if you come across an offset of 3, you would move three instructions forward, but change it to a 4 for the next time it is encountered.\n",
    "\n",
    "***For example***, consider the following list of jump offsets:\n",
    "\n",
    "0\n",
    "\n",
    "3\n",
    "\n",
    "0\n",
    "\n",
    "1\n",
    "\n",
    "-3\n",
    "\n",
    "\n",
    "Positive jumps (\"forward\") move downward; negative jumps move upward. \n",
    "\n",
    "**How many steps** does it take to reach the exit?"
   ]
  },
  {
   "cell_type": "code",
   "execution_count": 10,
   "metadata": {},
   "outputs": [
    {
     "name": "stdout",
     "output_type": "stream",
     "text": [
      "376976\n"
     ]
    }
   ],
   "source": [
    "def jump_maze_1(inp):\n",
    "    \"\"\"\n",
    "    Given an input of jump instructions, \n",
    "    Returns the number of steps required to reach the exit\n",
    "    \"\"\"\n",
    "    i, steps = 0, 0\n",
    "    inp = list(vector(inp))\n",
    "    while i < len(inp):\n",
    "        j = i\n",
    "        i, inp[j] = i + inp[i], inp[j] + 1\n",
    "        steps += 1\n",
    "    return(steps)\n",
    "        \n",
    "\n",
    "# Tests\n",
    "assert jump_maze_1(get_input(5, test=True).read()) == 5\n",
    "\n",
    "# Final Solution\n",
    "print(jump_maze_1(get_input(5).read()))"
   ]
  },
  {
   "cell_type": "markdown",
   "metadata": {},
   "source": [
    "### -- Part Two --\n",
    "\n",
    "Now, the jumps are even stranger: after each jump, if the offset was **three or more**, instead **decrease** it by 1. Otherwise, increase it by 1 as before.\n",
    "\n",
    "Using this rule with the above example, the process now takes 10 steps, and the offset values after finding the exit are left as 2 3 2 3 -1.\n",
    "\n",
    "**How many steps** does it now take to reach the exit?"
   ]
  },
  {
   "cell_type": "code",
   "execution_count": 11,
   "metadata": {},
   "outputs": [
    {
     "name": "stdout",
     "output_type": "stream",
     "text": [
      "29227751\n"
     ]
    }
   ],
   "source": [
    "def jump_maze_2(test=False):\n",
    "    \"\"\"\n",
    "    Given an input of jump instructions, \n",
    "    Returns the number of steps required to reach the exit\n",
    "    \"\"\"\n",
    "    i, steps = 0, 0\n",
    "    inp = [int(n) for n in get_input(5, test=test)]\n",
    "    while i < len(inp):\n",
    "        j = i\n",
    "        i = i + inp[i]\n",
    "        inp[j] += (-1 if inp[j] >= 3 else 1)\n",
    "        steps += 1\n",
    "    return(steps)\n",
    "        \n",
    "    \n",
    "# Tests\n",
    "assert jump_maze_2(test=True) == 10\n",
    "\n",
    "# Final Solution\n",
    "print(jump_maze_2())"
   ]
  },
  {
   "cell_type": "markdown",
   "metadata": {},
   "source": [
    "# [Day 6:](http://adventofcode.com/2017/day/6) Memory Reallocation"
   ]
  },
  {
   "cell_type": "markdown",
   "metadata": {},
   "source": [
    "### -- Part One --\n",
    "\n",
    "A debugger program here is having an issue: it is trying to repair a memory reallocation routine, but it keeps getting stuck in an infinite loop.\n",
    "\n",
    "In this area, there are sixteen memory banks; each memory bank can hold any number of **blocks**. The goal of the reallocation routine is to balance the blocks between the memory banks.\n",
    "\n",
    "The reallocation routine operates in cycles. In each cycle, it finds the memory bank with the most blocks (ties won by the lowest-numbered memory bank) and redistributes those blocks among the banks. To do this, it removes all of the blocks from the selected bank, then moves to the next (by index) memory bank and inserts one of the blocks. It continues doing this until it runs out of blocks; if it reaches the last memory bank, it wraps around to the first one.\n",
    "\n",
    "The debugger would like to know how many redistributions can be done before a blocks-in-banks configuration is produced that **has been seen before.**\n",
    "\n",
    "***For example***, imagine a scenario with only four memory banks:\n",
    "\n",
    "- The banks start with 0, 2, 7, and 0 blocks. The third bank has the most blocks, so it is chosen for redistribution.\n",
    "- Starting with the next bank (the fourth bank) and then continuing to the first bank, the second bank, and so on, the 7 blocks are spread out over the memory banks. The fourth, first, and second banks get two blocks each, and the third bank gets one back. The final result looks like this: 2 4 1 2.\n",
    "- Next, the second bank is chosen because it contains the most blocks (four). Because there are four memory banks, each gets one block. The result is: 3 1 2 3.\n",
    "- Now, there is a tie between the first and fourth memory banks, both of which have three blocks. The first bank wins the tie, and its three blocks are distributed evenly over the other three banks, leaving it with none: 0 2 3 4.\n",
    "- The fourth bank is chosen, and its four blocks are distributed such that each of the four banks receives one: 1 3 4 1.\n",
    "- The third bank is chosen, and the same thing happens: 2 4 1 2.\n",
    "\n",
    "At this point, we've reached a state we've seen before: 2 4 1 2 was already seen. The infinite loop is detected after the fifth block redistribution cycle, and so the answer in this example is 5.\n",
    "\n",
    "Given the initial block counts in your puzzle input, **how many redistribution cycles** must be completed before a configuration is produced that has been seen before?"
   ]
  },
  {
   "cell_type": "code",
   "execution_count": 12,
   "metadata": {},
   "outputs": [
    {
     "name": "stdout",
     "output_type": "stream",
     "text": [
      "6681\n"
     ]
    }
   ],
   "source": [
    "# Helper functions\n",
    "def get_max(li):\n",
    "    return li.index(max(li))\n",
    "\n",
    "def redistribute(li, max_i):\n",
    "    temp_li = list(li)\n",
    "    count = temp_li[max_i]\n",
    "    temp_li[max_i] = 0\n",
    "    i = max_i + 1\n",
    "    while count > 0:\n",
    "        i = i % len(li)\n",
    "        temp_li[i] += 1\n",
    "        i += 1\n",
    "        count -=1\n",
    "    return tuple(temp_li)\n",
    "\n",
    "\n",
    "def realloc_1(inp):\n",
    "    \"\"\"\n",
    "    Returns the number of redistribition cycles before a previous configuration repeats itself\n",
    "    \"\"\"\n",
    "    inp = vector(inp)\n",
    "    prev_configs = set()\n",
    "    cycles = 0\n",
    "    max_i = get_max(inp)\n",
    "    while True:\n",
    "        cycles += 1\n",
    "        inp = redistribute(inp, max_i)\n",
    "        if inp in prev_configs:\n",
    "            break\n",
    "        else:\n",
    "            prev_configs.add(inp)\n",
    "        max_i = get_max(inp)\n",
    "    return (inp, cycles)\n",
    "\n",
    "\n",
    "# Tests\n",
    "assert realloc_1(get_input(6, test=True).read())[1] == 5\n",
    "\n",
    "# Final Solution\n",
    "print(realloc_1(get_input(6).read())[1])"
   ]
  },
  {
   "cell_type": "markdown",
   "metadata": {},
   "source": [
    "### -- Part Two --\n",
    "\n",
    "Out of curiosity, the debugger would also like to know the size of the loop: starting from a state that has already been seen, how many block redistribution cycles must be performed before that same state is seen again?\n",
    "\n",
    "In the example above, `2 4 1 2` is seen again after four cycles, and so the answer in that example would be `4`.\n",
    "\n",
    "**How many cycles** are in the infinite loop that arises from the configuration in your puzzle input?"
   ]
  },
  {
   "cell_type": "code",
   "execution_count": 13,
   "metadata": {},
   "outputs": [
    {
     "name": "stdout",
     "output_type": "stream",
     "text": [
      "2392\n"
     ]
    }
   ],
   "source": [
    "def realloc_2(inp):\n",
    "    \"\"\"\n",
    "    Returns the number of redistribition cycles before a previous configuration repeats itself\n",
    "    \"\"\"\n",
    "    config, _ = realloc_1(inp)\n",
    "    config = \" \".join([str(n) for n in config])\n",
    "    _, cycles = realloc_1(config)\n",
    "    return cycles - 1\n",
    "\n",
    "\n",
    "# # Tests\n",
    "assert realloc_2(get_input(6, test=True).read()) == 4\n",
    "\n",
    "# # Final Solution\n",
    "print(realloc_2(get_input(6).read()))"
   ]
  },
  {
   "cell_type": "markdown",
   "metadata": {},
   "source": [
    "# [Day 7:](http://adventofcode.com/2017/day/7) Recursive Circus"
   ]
  },
  {
   "cell_type": "markdown",
   "metadata": {},
   "source": [
    "### -- Part One --\n",
    "\n",
    "Wandering further through the circuits of the computer, you come upon a tower of programs that have gotten themselves into a bit of trouble. A recursive algorithm has gotten out of hand, and now they're balanced precariously in a large tower.\n",
    "\n",
    "One program at the bottom supports the entire tower. It's holding a large disc, and on the disc are balanced several more sub-towers. At the bottom of these sub-towers, standing on the bottom disc, are other programs, each holding **their** own disc, and so on. At the very tops of these sub-sub-sub-...-towers, many programs stand simply keeping the disc below them balanced but with no disc of their own.\n",
    "\n",
    "You offer to help, but first you need to understand the structure of these towers. You ask each program to yell out their **name**, their **weight**, and (if they're holding a disc) the **names of the programs immediately above them** balancing on that disc. You write this information down (your puzzle input). Unfortunately, in their panic, they don't do this in an orderly fashion; by the time you're done, you're not sure which program gave which information.\n",
    "\n",
    "For example, if your list is the following:\n",
    "\n",
    "`pbga (66)\n",
    "xhth (57)\n",
    "ebii (61)\n",
    "havc (66)\n",
    "ktlj (57)\n",
    "fwft (72) -> ktlj, cntj, xhth\n",
    "qoyq (66)\n",
    "padx (45) -> pbga, havc, qoyq\n",
    "tknk (41) -> ugml, padx, fwft\n",
    "jptl (61)\n",
    "ugml (68) -> gyxo, ebii, jptl\n",
    "gyxo (61)\n",
    "cntj (57)\n",
    "`\n",
    "\n",
    "...then you would be able to recreate the structure of the towers that looks like this:\n",
    "\n",
    "`\n",
    "gyxo\n",
    "              /     \n",
    "         ugml - ebii\n",
    "       /      \\     \n",
    "      |         jptl\n",
    "      |        \n",
    "      |         pbga\n",
    "     /        /\n",
    "tknk --- padx - havc\n",
    "     \\        \\\n",
    "      |         qoyq\n",
    "      |             \n",
    "      |         ktlj\n",
    "       \\      /     \n",
    "         fwft - cntj\n",
    "              \\     \n",
    "                xhth\n",
    "`\n",
    "\n",
    "In this example, tknk is at the bottom of the tower (the bottom program), and is holding up ugml, padx, and fwft. Those programs are, in turn, holding up other programs; in this example, none of those programs are holding up any other programs, and are all the tops of their own towers. (The actual tower balancing in front of you is much larger.)\n",
    "\n",
    "Before you're ready to help them, you need to make sure your information is correct. **What is the name of the bottom program?**"
   ]
  },
  {
   "cell_type": "code",
   "execution_count": 80,
   "metadata": {},
   "outputs": [
    {
     "name": "stdout",
     "output_type": "stream",
     "text": [
      "aapssr\n"
     ]
    }
   ],
   "source": [
    "def recursive_tower_1(inp):\n",
    "    \"\"\"\n",
    "    Returns the base of the program tower\n",
    "    \"\"\"\n",
    "    disc = set()\n",
    "    not_disc = set()\n",
    "    for line in inp:\n",
    "        line = alphanum_vector(line)\n",
    "        if len(line) == 2:\n",
    "            not_disc.add(line[0])\n",
    "        else:\n",
    "            disc.add(line[0])\n",
    "            not_disc.update(set(line[1:]))\n",
    "    return (disc - not_disc).pop()\n",
    "\n",
    "\n",
    "# Test\n",
    "assert recursive_tower_1(get_input(7, test=True)) == \"tknk\"\n",
    "\n",
    "# Final Solution\n",
    "print(recursive_tower_1(get_input(7)))"
   ]
  },
  {
   "cell_type": "markdown",
   "metadata": {},
   "source": [
    "### -- Part Two --\n",
    "\n",
    "The programs explain the situation: they can't get down. Rather, they could get down, if they weren't expending all of their energy trying to keep the tower balanced. Apparently, one program has the wrong weight, and until it's fixed, they're stuck here.\n",
    "\n",
    "For any program holding a disc, each program standing on that disc forms a sub-tower. Each of those sub-towers are supposed to be the same weight, or the disc itself isn't balanced. The weight of a tower is the sum of the weights of the programs in that tower.\n",
    "\n",
    "In the example above, this means that for `ugml`'s disc to be balanced, `gyxo`, `ebii`, and `jptl` must all have the same weight, and they do: 61.\n",
    "\n",
    "However, for tknk to be balanced, each of the programs standing on its disc and all programs above it must each match. This means that the following sums must all be the same:\n",
    "\n",
    "`\n",
    "ugml + (gyxo + ebii + jptl) = 68 + (61 + 61 + 61) = 251\n",
    "padx + (pbga + havc + qoyq) = 45 + (66 + 66 + 66) = 243\n",
    "fwft + (ktlj + cntj + xhth) = 72 + (57 + 57 + 57) = 243\n",
    "`\n",
    "As you can see, `tknk`'s disc is unbalanced: `ugml`'s stack is heavier than the other two. Even though the nodes above ugml are balanced, `ugml` itself is too heavy: it needs to be 8 units lighter for its stack to weigh 243 and keep the towers balanced. If this change were made, its weight would be 60.\n",
    "\n",
    "Given that exactly one program is the wrong weight, what would its weight need to be to balance the entire tower?"
   ]
  },
  {
   "cell_type": "code",
   "execution_count": 84,
   "metadata": {},
   "outputs": [
    {
     "name": "stdout",
     "output_type": "stream",
     "text": [
      "{'pbga': 66, 'xhth': 57, 'ebii': 61, 'havc': 66, 'ktlj': 57, 'fwft': 72, 'cntj': 57, 'qoyq': 66, 'padx': 45, 'tknk': 41, 'ugml': 68, 'jptl': 61, 'gyxo': 61}\n",
      "None\n"
     ]
    }
   ],
   "source": [
    "def recursive_tower_2(inp):\n",
    "    \"\"\"\n",
    "    Returns the base of the program tower\n",
    "    \"\"\"\n",
    "    # Will maybe get to this at some point\n",
    "    pass\n",
    "\n",
    "\n",
    "# Test\n",
    "# assert recursive_tower_2(get_input(7, test=True)) == 251\n",
    "\n",
    "# Final Solution\n",
    "# print(recursive_tower_1(get_input(7)))"
   ]
  },
  {
   "cell_type": "code",
   "execution_count": null,
   "metadata": {},
   "outputs": [],
   "source": []
  }
 ],
 "metadata": {
  "kernelspec": {
   "display_name": "Python 3",
   "language": "python",
   "name": "python3"
  },
  "language_info": {
   "codemirror_mode": {
    "name": "ipython",
    "version": 3
   },
   "file_extension": ".py",
   "mimetype": "text/x-python",
   "name": "python",
   "nbconvert_exporter": "python",
   "pygments_lexer": "ipython3",
   "version": "3.6.0"
  }
 },
 "nbformat": 4,
 "nbformat_minor": 2
}
