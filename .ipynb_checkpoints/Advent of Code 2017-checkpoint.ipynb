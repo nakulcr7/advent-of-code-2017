{
 "cells": [
  {
   "cell_type": "markdown",
   "metadata": {},
   "source": [
    "# Advent of Code 2017 Solutions\n",
    "## Nakul Camasamudram"
   ]
  },
  {
   "cell_type": "markdown",
   "metadata": {},
   "source": [
    "The plan is to solve one problem each day from Dec 1st to Dec 27th, 2017 from [Advent Of Code](https://adventofcode.com/2017). I don't aim to get as many stars as possible as that would require me to start working at midnight each day. This is more of an exercise for me to write efficient and beautiful pythonic code"
   ]
  },
  {
   "cell_type": "markdown",
   "metadata": {},
   "source": [
    "## Helper Functions and Modules\n",
    "\n",
    "This section contains my favourite modules and functions that I think I'd need through the challenge"
   ]
  },
  {
   "cell_type": "code",
   "execution_count": 18,
   "metadata": {},
   "outputs": [],
   "source": [
    "# Python 3.6.0\n",
    "from itertools import combinations, count\n",
    "import requests\n",
    "import math\n",
    "\n",
    "\n",
    "### File Input Helpers\n",
    "def get_filepath(day, test=False):\n",
    "    if test:\n",
    "        return \"data/input{}_test.txt\".format(day)\n",
    "    else:\n",
    "        return \"data/input{}.txt\".format(day)\n",
    "    \n",
    "    \n",
    "def get_input(day, test=False):\n",
    "    \"Reads this day's input file\"\n",
    "    filepath = get_filepath(day, test=test)\n",
    "    try:\n",
    "        return open(filepath)\n",
    "    except FileNotFoundError as e:\n",
    "        raise e(\"Input file not found\")\n",
    "\n",
    "        \n",
    "def get_input_gen(day, test=False):\n",
    "    \"Reads this day's input file line by line\"\n",
    "    filepath = get_filepath(day, test=test)\n",
    "    try:\n",
    "        with open(filepath) as f:\n",
    "            for line in f:\n",
    "                yield line\n",
    "    except FileNotFoundError as e:\n",
    "        raise e(\"Input file not found\")\n",
    "        \n",
    "\n",
    "### 2d Geometry\n",
    "def get_x(point):\n",
    "    \"\"\"\n",
    "    Given a point, returns its x-coordinate\n",
    "    \"\"\"\n",
    "    x, _ = point\n",
    "    return x\n",
    "\n",
    "\n",
    "def get_y(point):\n",
    "    \"\"\"\n",
    "    Given a point, returns its y-coordinate\n",
    "    \"\"\"\n",
    "    _, y = point\n",
    "    return y\n",
    "\n",
    "\n",
    "def minkowski_dist(p1, p2, d):\n",
    "    \"\"\"\n",
    "    Given two points and an order d, returns their order-d minkowski distance\n",
    "    \"\"\"\n",
    "    return pow((pow(abs(get_x(p1) - get_x(p2)), \n",
    "                    d), \n",
    "                pow(abs(get_y(p1) - get_y(p2)), \n",
    "                    d)\n",
    "               ),\n",
    "              1/d)\n",
    "\n",
    "\n",
    "def manhattan_dist(p1, p2):\n",
    "    \"\"\"\n",
    "    Given two points, returns the manhattan distance between them\n",
    "    \"\"\"\n",
    "    return minkowski_dist(p1, p2, 1)\n",
    "\n",
    "\n",
    "def euclidean_dist(p1, p2):\n",
    "    \"\"\"\n",
    "    Given two points, returns the euclidean distance between them\n",
    "    \"\"\"\n",
    "    return minkowski_dist(p1, p2, 2)\n",
    "\n",
    "\n",
    "### Iterables\n",
    "def quantify(iterable, predicate):\n",
    "    \"\"\"\n",
    "    Given an iterable and a predicate,\n",
    "    Returns the number of items in the iterable that satisfy the predicate\n",
    "    \"\"\"\n",
    "    return len([token for token in iterable if predicate(token)])\n",
    "\n",
    "\n",
    "def hashable(items, typ=None):\n",
    "    \"\"\"\n",
    "    Given order-independent items and an optional type,\n",
    "    Returns a hashable version of the iterable\n",
    "    \"\"\"\n",
    "    typ = typ or (\"\".join if isinstance(items, str) else tuple)\n",
    "    return typ(sorted(items))\n",
    "\n",
    "\n",
    "def first(gen, default=None):\n",
    "    \"\"\"\n",
    "    Given a generator, returns its first element\n",
    "    \"\"\"\n",
    "    return next(gen, default)\n",
    "\n",
    "\n",
    "### Miscellaneous\n",
    "def is_even(iterable):\n",
    "    \"Given an iterable, returns True if its length is even\"\n",
    "    return len(iterable) % 2 == 0"
   ]
  },
  {
   "cell_type": "markdown",
   "metadata": {},
   "source": [
    "# [Day 1:](https://adventofcode.com/2017/day/1) Inverse Captcha"
   ]
  },
  {
   "cell_type": "markdown",
   "metadata": {},
   "source": [
    "### -- Part One -- \n",
    "\n",
    "The night before Christmas, one of Santa's Elves calls you in a panic. \"The printer's broken! We can't print the **Naughty or Nice List**!\" By the time you make it to sub-basement 17, there are only a few minutes until midnight. \"We have a big problem,\" she says; \"there must be almost fifty bugs in this system, but nothing else can print The List. Stand in this square, quick! There's no time to explain; if you can convince them to pay you in ***stars***, you'll be able to--\" She pulls a lever and the world goes blurry.\n",
    "\n",
    "When your eyes can focus again, everything seems a lot more pixelated than before. She must have sent you inside the computer! You check the system clock: **25 milliseconds** until midnight. With that much time, you should be able to collect all ***fifty stars*** by December 25th.\n",
    "\n",
    "Collect stars by solving puzzles. Two puzzles will be made available on each day millisecond in the advent calendar; the second puzzle is unlocked when you complete the first. Each puzzle grants ***one star***. Good luck!\n",
    "\n",
    "You're standing in a room with \"digitization quarantine\" written in LEDs along one wall. The only door is locked, but it includes a small interface. \"Restricted Area - Strictly No Digitized Users Allowed.\"\n",
    "\n",
    "It goes on to explain that you may only leave by solving a [captcha](https://en.wikipedia.org/wiki/CAPTCHA) to prove you're not a human. Apparently, you only get one millisecond to solve the captcha: too fast for a normal human, but it feels like hours to you.\n",
    "\n",
    "The captcha requires you to review a sequence of digits (your puzzle input) and find the **sum** of all digits that match the **next** digit in the list. The list is circular, so the digit after the last digit is the **first** digit in the list.\n",
    "\n",
    "***For example:***\n",
    "\n",
    "- 1122 produces a sum of 3 (1 + 2) because the first digit (1) matches the second digit and the third digit (2) matches the fourth digit.\n",
    "\n",
    "- 1111 produces 4 because each digit (all 1) matches the next.\n",
    "\n",
    "- 1234 produces 0 because no digit matches the next.\n",
    "\n",
    "- 91212129 produces 9 because the only digit that matches the next one is the last digit, 9.\n",
    "\n",
    "\n",
    "**What is the solution** to your captcha?"
   ]
  },
  {
   "cell_type": "code",
   "execution_count": 2,
   "metadata": {},
   "outputs": [
    {
     "name": "stdout",
     "output_type": "stream",
     "text": [
      "1177\n"
     ]
    }
   ],
   "source": [
    "def inverse_captcha_1(captcha):\n",
    "    \"\"\"\n",
    "    Given a string `captcha` , return its solution\n",
    "    \"\"\"\n",
    "    s = 0  # solution\n",
    "    for i in range(len(captcha)):\n",
    "        if captcha[i] == captcha[(i + 1) % len(captcha)]:\n",
    "            s += int(captcha[i])\n",
    "    return s\n",
    "\n",
    "\n",
    "# Tests\n",
    "assert inverse_captcha_1(\"1122\") == 3\n",
    "assert inverse_captcha_1(\"1111\") == 4\n",
    "assert inverse_captcha_1(\"1234\") == 0\n",
    "assert inverse_captcha_1(\"91212129\") == 9\n",
    "\n",
    "# Final Solution\n",
    "print(inverse_captcha_1(get_input(1)))"
   ]
  },
  {
   "cell_type": "markdown",
   "metadata": {},
   "source": [
    "### -- Part Two --"
   ]
  },
  {
   "cell_type": "markdown",
   "metadata": {},
   "source": [
    "You notice a progress bar that jumps to 50% completion. Apparently, the door isn't yet satisfied, but it did emit a ***star*** as encouragement. The instructions change:\n",
    "\n",
    "Now, instead of considering the **next** digit, it wants you to consider the digit **halfway around** the circular list. That is, if your list contains 10 items, only include a digit in your sum if the digit 10/2 = 5 steps forward matches it. Fortunately, your list has an even number of elements.\n",
    "\n",
    "***For example:***\n",
    "- 1212 produces 6: the list contains 4 items, and all four digits match the digit 2 items ahead.\n",
    "- 1221 produces 0, because every comparison is between a 1 and a 2.\n",
    "- 123425 produces 4, because both 2s match each other, but no other digit has a match.\n",
    "- 123123 produces 12.\n",
    "- 12131415 produces 4.\n",
    "\n",
    "**What is the solution** to your new captcha?"
   ]
  },
  {
   "cell_type": "code",
   "execution_count": 3,
   "metadata": {},
   "outputs": [
    {
     "name": "stdout",
     "output_type": "stream",
     "text": [
      "1060\n"
     ]
    }
   ],
   "source": [
    "def inverse_captcha_2(captcha):\n",
    "    \"\"\"\n",
    "    Given a string `captcha` , return its solution\n",
    "    \"\"\"\n",
    "    if not is_even(captcha):\n",
    "        raise ValueError(\"The length of the captcha is not even. Wrong input provided\")\n",
    "        \n",
    "    s = 0  # solution\n",
    "    for i in range(len(captcha)):\n",
    "        if captcha[i] == captcha[(i + len(captcha)//2) % len(captcha)]:\n",
    "            s += int(captcha[i])\n",
    "    return s\n",
    "\n",
    "\n",
    "# Tests\n",
    "assert inverse_captcha_2(\"1212\") == 6\n",
    "assert inverse_captcha_2(\"1221\") == 0\n",
    "assert inverse_captcha_2(\"123425\") == 4\n",
    "assert inverse_captcha_2(\"123123\") == 12\n",
    "assert inverse_captcha_2(\"12131415\") == 4\n",
    "\n",
    "\n",
    "# Final Solution\n",
    "print(inverse_captcha_2(get_input(1)))"
   ]
  },
  {
   "cell_type": "markdown",
   "metadata": {},
   "source": [
    "# [Day 2:](https://adventofcode.com/2017/day/2) Corruption Checksum"
   ]
  },
  {
   "cell_type": "markdown",
   "metadata": {},
   "source": [
    "### -- Part One --\n",
    "\n",
    "As you walk through the door, a glowing humanoid shape yells in your direction. \"You there! Your state appears to be idle. Come help us repair the corruption in this spreadsheet - if we take another millisecond, we'll have to display an hourglass cursor!\"\n",
    "\n",
    "The spreadsheet consists of rows of apparently-random numbers. To make sure the recovery process is on the right track, they need you to calculate the spreadsheet's **checksum**. For each row, determine the difference between the largest value and the smallest value; the checksum is the sum of all of these differences.\n",
    "\n",
    "**What is the checksum** for the spreadsheet in your puzzle input?"
   ]
  },
  {
   "cell_type": "code",
   "execution_count": 4,
   "metadata": {},
   "outputs": [
    {
     "name": "stdout",
     "output_type": "stream",
     "text": [
      "58975\n"
     ]
    }
   ],
   "source": [
    "def checksum_1(input_gen):\n",
    "    \"\"\"\n",
    "    Given a generator that reads an input file, returns its checksum\n",
    "    \"\"\"\n",
    "    cs = 0\n",
    "    for line in input_gen:\n",
    "        line = [int(s) for s in line.strip().split()]\n",
    "        cs += max(line) - min(line)\n",
    "    return cs\n",
    "\n",
    "\n",
    "# Tests\n",
    "assert checksum_1(get_input_gen(2, test=True)) == 18\n",
    "\n",
    "# Final Solution\n",
    "print(checksum_1(get_input_gen(2)))"
   ]
  },
  {
   "cell_type": "markdown",
   "metadata": {},
   "source": [
    "### -- Part Two --\n",
    "\n",
    "\"Great work; looks like we're on the right track after all. Here's a star for your effort.\" However, the program seems a little worried. Can programs be worried?\n",
    "\n",
    "\"Based on what we're seeing, it looks like all the User wanted is some information about the **evenly divisible values** in the spreadsheet. Unfortunately, none of us are equipped for that kind of calculation - most of us specialize in bitwise operations.\"\n",
    "\n",
    "It sounds like the goal is to find the only two numbers in each row where one evenly divides the other - that is, where the result of the division operation is a whole number. They would like you to find those numbers on each line, divide them, and add up each line's result.\n",
    "\n",
    "What is the **sum of each row's result** in your puzzle input?"
   ]
  },
  {
   "cell_type": "code",
   "execution_count": 5,
   "metadata": {},
   "outputs": [
    {
     "name": "stdout",
     "output_type": "stream",
     "text": [
      "308\n"
     ]
    }
   ],
   "source": [
    "def checksum_2(input_gen):\n",
    "    \"\"\"\n",
    "    Given a generator that reads an input file, returns its checksum\n",
    "    \"\"\"\n",
    "    cs = 0\n",
    "    for line in input_gen:\n",
    "        line = [int(s) for s in line.strip().split()]\n",
    "        for a, b in combinations(sorted(line), 2):\n",
    "            if b % a == 0:\n",
    "                cs += b // a\n",
    "    return cs\n",
    "\n",
    "\n",
    "# Final Solution\n",
    "print(checksum_2(get_input_gen(2)))"
   ]
  },
  {
   "cell_type": "markdown",
   "metadata": {},
   "source": [
    "# [Day 3:](https://adventofcode.com/2017/day3) Spiral Memory"
   ]
  },
  {
   "cell_type": "markdown",
   "metadata": {},
   "source": [
    "You come across an experimental new kind of memory stored on an infinite two-dimensional grid.\n",
    "\n",
    "Each square on the grid is allocated in a spiral pattern starting at a location marked 1 and then counting up while spiraling outward. For example, the first few squares are allocated like this:\n",
    "\n",
    "17  16  15  14  13\n",
    "\n",
    "18   5   4   3  12\n",
    "\n",
    "19   6   1   2  11\n",
    "\n",
    "20   7   8   9  10\n",
    "\n",
    "21  22  23---> ...\n",
    "\n",
    "\n",
    "While this is very space-efficient (no squares are skipped), requested data must be carried back to square 1 (the location of the only access port for this memory system) by programs that can only move up, down, left, or right. They always take the shortest path: the Manhattan Distance between the location of the data and square 1.\n",
    "\n",
    "How many steps are required to carry the data from the square identified in your puzzle input all the way to the access port?\n",
    "\n",
    "Your puzzle input is `312051`"
   ]
  },
  {
   "cell_type": "code",
   "execution_count": 6,
   "metadata": {},
   "outputs": [
    {
     "name": "stdout",
     "output_type": "stream",
     "text": [
      "430\n"
     ]
    }
   ],
   "source": [
    "def spiral_memory_1(num):\n",
    "    if num == 1:\n",
    "        return 0\n",
    "    layer = math.floor(math.ceil(math.sqrt(num)) / 2)\n",
    "    vector_off = (num - (2*layer - 1)**2) % (2*layer)\n",
    "    center_off = abs(vector_off - layer)\n",
    "    return layer + center_off\n",
    "\n",
    "# Tests\n",
    "assert spiral_memory_1(1) == 0\n",
    "assert spiral_memory_1(12) == 3\n",
    "assert spiral_memory_1(23) == 2\n",
    "assert spiral_memory_1(1024) == 31\n",
    "\n",
    "# Final Solution\n",
    "print(spiral_memory_1(312051))"
   ]
  },
  {
   "cell_type": "markdown",
   "metadata": {},
   "source": [
    "### -- Part Two --\n",
    "\n",
    "As a stress test on the system, the programs here clear the grid and then store the value 1 in square 1. Then, in the same allocation order as shown above, they store the sum of the values in all adjacent squares, including diagonals.\n",
    "\n",
    "So, the first few squares' values are chosen as follows:\n",
    "\n",
    "Square 1 starts with the value 1.\n",
    "Square 2 has only one adjacent filled square (with value 1), so it also stores 1.\n",
    "Square 3 has both of the above squares as neighbors and stores the sum of their values, 2.\n",
    "Square 4 has all three of the aforementioned squares as neighbors and stores the sum of their values, 4.\n",
    "Square 5 only has the first and fourth squares as neighbors, so it gets the value 5.\n",
    "Once a square is written, its value does not change. Therefore, the first few squares would receive the following values:\n",
    "\n",
    "147  142  133  122   59\n",
    "\n",
    "304    5    4    2   57\n",
    "\n",
    "330   10    1    1   54\n",
    "\n",
    "351   11   23   25   26\n",
    "\n",
    "362  747  806--->   ...\n",
    "\n",
    "What is the first value written that is larger than your puzzle input?\n",
    "\n",
    "Your puzzle input is still `312051`."
   ]
  },
  {
   "cell_type": "code",
   "execution_count": 7,
   "metadata": {},
   "outputs": [
    {
     "name": "stdout",
     "output_type": "stream",
     "text": [
      "312453\n"
     ]
    }
   ],
   "source": [
    "def spiral_sum_gen():\n",
    "    a, i, j = {(0,0) : 1}, 0, 0\n",
    "    neighbour_sum = lambda i,j: sum(a.get((k,l), 0) \n",
    "                                    for k in range(i-1,i+2)\n",
    "                                         for l in range(j-1,j+2))\n",
    "    for s in count(1, 2):\n",
    "        for _ in range(s):\n",
    "            i += 1\n",
    "            a[i,j] = neighbour_sum(i,j)           \n",
    "            yield a[i,j]\n",
    "        \n",
    "        for _ in range(s):\n",
    "            j += 1\n",
    "            a[i,j] = neighbour_sum(i,j)\n",
    "            yield a[i,j]\n",
    "        \n",
    "        for _ in range(s+1): \n",
    "            i -= 1\n",
    "            a[i,j] = neighbour_sum(i,j)\n",
    "            yield a[i,j]\n",
    "            \n",
    "        for _ in range(s+1):\n",
    "            j -= 1\n",
    "            a[i,j] = neighbour_sum(i,j)\n",
    "            yield a[i,j]\n",
    "            \n",
    "\n",
    "def spiral_memory_2(num):\n",
    "    for s in spiral_sum_gen():\n",
    "        if s > num: return s\n",
    "        \n",
    "\n",
    "# Final Solution\n",
    "print(spiral_memory_2(312051))"
   ]
  },
  {
   "cell_type": "markdown",
   "metadata": {},
   "source": [
    "# [Day 4:](http://adventofcode.com/2017/day/4) High-Entropy Passphrases"
   ]
  },
  {
   "cell_type": "markdown",
   "metadata": {},
   "source": [
    "### -- Part One --\n",
    "\n",
    "A new system policy has been put in place that requires all accounts to use a **passphrase** instead of simply a pass**word**. A passphrase consists of a series of words (lowercase letters) separated by spaces.\n",
    "\n",
    "To ensure security, a valid passphrase must contain no duplicate words.\n",
    "\n",
    "***For example:***\n",
    "\n",
    "- aa bb cc dd ee is valid.\n",
    "\n",
    "- aa bb cc dd aa is not valid - the word aa appears more than once.\n",
    "\n",
    "- aa bb cc dd aaa is valid - aa and aaa count as different words.\n",
    "\n",
    "The system's full passphrase list is available as your puzzle input. **How many passphrases are valid?**"
   ]
  },
  {
   "cell_type": "code",
   "execution_count": 16,
   "metadata": {},
   "outputs": [
    {
     "name": "stdout",
     "output_type": "stream",
     "text": [
      "451\n"
     ]
    }
   ],
   "source": [
    "def passphrase_1(input_gen):\n",
    "    \"\"\"\n",
    "    Given a generator that reads an input file, returns the number o\n",
    "    \"\"\"\n",
    "    def valid_passphrase(line):\n",
    "        \"\"\"\n",
    "        A predicate that True iff the given line is a valid passphrase\n",
    "        \"\"\"\n",
    "        words = line.strip().split()\n",
    "        return len(words) == len(set(words))\n",
    "    return quantify(input_gen, valid_passphrase)\n",
    "    \n",
    "        \n",
    "# Tests\n",
    "assert passphrase_1(get_input_gen(4, test=True)) == 2\n",
    "\n",
    "# Final Solution\n",
    "print(passphrase_1(get_input_gen(4)))"
   ]
  },
  {
   "cell_type": "markdown",
   "metadata": {},
   "source": [
    "### -- Part Two --\n",
    "\n",
    "For added security, yet another system policy has been put in place. Now, a valid passphrase must contain no two words that are anagrams of each other - that is, a passphrase is invalid if any word's letters can be rearranged to form any other word in the passphrase.\n",
    "\n",
    "***For example:***\n",
    "\n",
    "- abcde fghij is a valid passphrase.\n",
    "\n",
    "- abcde xyz ecdab is not valid - the letters from the third word can be rearranged to form the first word.\n",
    "\n",
    "- a ab abc abd abf abj is a valid passphrase, because all letters need to be used when forming another word.\n",
    "\n",
    "- iiii oiii ooii oooi oooo is valid.\n",
    "\n",
    "- oiii ioii iioi iiio is not valid - any of these words can be rearranged to form any other word.\n",
    "\n",
    "Under this new system policy, **how many passphrases are valid?**"
   ]
  },
  {
   "cell_type": "code",
   "execution_count": 25,
   "metadata": {},
   "outputs": [
    {
     "name": "stdout",
     "output_type": "stream",
     "text": [
      "223\n"
     ]
    }
   ],
   "source": [
    "def passphrase_2(input_gen):\n",
    "    \"\"\"\n",
    "    Given a generator that reads an input file, returns the number of valid passphrases\n",
    "    \"\"\"\n",
    "    def valid_passphrase(line):\n",
    "        \"\"\"\n",
    "        A predicate that True iff the given line is a valid passphrase\n",
    "        \"\"\"\n",
    "        words = [hashable(word) for word in line.split()]\n",
    "        return len(words) == len(set(words))\n",
    "    return quantify(input_gen, valid_passphrase)\n",
    "    \n",
    "    \n",
    "# Final Solution\n",
    "print(passphrase_2(get_input_gen(4)))"
   ]
  },
  {
   "cell_type": "markdown",
   "metadata": {},
   "source": [
    "# [Day 5:](http://adventofcode.com/2017/day/5) A Maze of Twisty Trampolines, All Alike"
   ]
  },
  {
   "cell_type": "markdown",
   "metadata": {},
   "source": [
    "### -- Part One --\n",
    "\n",
    "An urgent interrupt arrives from the CPU: it's trapped in a maze of jump instructions, and it would like assistance from any programs with spare cycles to help find the exit.\n",
    "\n",
    "The message includes a list of the offsets for each jump. Jumps are relative: -1 moves to the previous instruction, and 2 skips the next one. Start at the first instruction in the list. The goal is to follow the jumps until one leads **outside** the list.\n",
    "\n",
    "In addition, these instructions are a little strange; after each jump, the offset of that instruction increases by 1. So, if you come across an offset of 3, you would move three instructions forward, but change it to a 4 for the next time it is encountered.\n",
    "\n",
    "***For example***, consider the following list of jump offsets:\n",
    "\n",
    "0\n",
    "\n",
    "3\n",
    "\n",
    "0\n",
    "\n",
    "1\n",
    "\n",
    "-3\n",
    "\n",
    "\n",
    "Positive jumps (\"forward\") move downward; negative jumps move upward. \n",
    "\n",
    "**How many steps** does it take to reach the exit?"
   ]
  },
  {
   "cell_type": "code",
   "execution_count": 31,
   "metadata": {},
   "outputs": [
    {
     "name": "stdout",
     "output_type": "stream",
     "text": [
      "376976\n"
     ]
    }
   ],
   "source": [
    "def jump_maze_1(test=False):\n",
    "    \"\"\"\n",
    "    Given an input of jump instructions, \n",
    "    Returns the number of steps required to reach the exit\n",
    "    \"\"\"\n",
    "    i, steps = 0, 0\n",
    "    inp = [int(n) for n in get_input(5, test=test)]\n",
    "    while i < len(inp):\n",
    "        j = i\n",
    "        i, inp[j] = i + inp[i], inp[j] + 1\n",
    "        steps += 1\n",
    "    return(steps)\n",
    "        \n",
    "\n",
    "# Tests\n",
    "assert jump_maze_1(test=True) == 5\n",
    "\n",
    "# Final Solution\n",
    "print(jump_maze_1())"
   ]
  },
  {
   "cell_type": "markdown",
   "metadata": {},
   "source": [
    "### -- Part Two --\n",
    "\n",
    "Now, the jumps are even stranger: after each jump, if the offset was **three or more**, instead **decrease** it by 1. Otherwise, increase it by 1 as before.\n",
    "\n",
    "Using this rule with the above example, the process now takes 10 steps, and the offset values after finding the exit are left as 2 3 2 3 -1.\n",
    "\n",
    "**How many steps** does it now take to reach the exit?"
   ]
  },
  {
   "cell_type": "code",
   "execution_count": 37,
   "metadata": {},
   "outputs": [
    {
     "name": "stdout",
     "output_type": "stream",
     "text": [
      "10\n",
      "29227751\n",
      "29227751\n"
     ]
    }
   ],
   "source": [
    "def jump_maze_2(test=False):\n",
    "    \"\"\"\n",
    "    Given an input of jump instructions, \n",
    "    Returns the number of steps required to reach the exit\n",
    "    \"\"\"\n",
    "    i, steps = 0, 0\n",
    "    inp = [int(n) for n in get_input(5, test=test)]\n",
    "    while i < len(inp):\n",
    "        j = i\n",
    "        i = i + inp[i]\n",
    "        inp[j] += (-1 if inp[j] >= 3 else 1)\n",
    "        steps += 1\n",
    "    return(steps)\n",
    "        \n",
    "    \n",
    "# Tests\n",
    "assert jump_maze_2(test=True) == 10\n",
    "\n",
    "# Final Solution\n",
    "print(jump_maze_2())"
   ]
  },
  {
   "cell_type": "code",
   "execution_count": null,
   "metadata": {},
   "outputs": [],
   "source": []
  }
 ],
 "metadata": {
  "kernelspec": {
   "display_name": "Python 3",
   "language": "python",
   "name": "python3"
  },
  "language_info": {
   "codemirror_mode": {
    "name": "ipython",
    "version": 3
   },
   "file_extension": ".py",
   "mimetype": "text/x-python",
   "name": "python",
   "nbconvert_exporter": "python",
   "pygments_lexer": "ipython3",
   "version": "3.6.0"
  }
 },
 "nbformat": 4,
 "nbformat_minor": 2
}
